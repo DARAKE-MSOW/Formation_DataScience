{
 "cells": [
  {
   "cell_type": "markdown",
   "id": "be8f55c0-4b48-49ab-bb9a-0b7bea99f023",
   "metadata": {},
   "source": [
    "# Outils et écosystème de la science des données"
   ]
  },
  {
   "cell_type": "markdown",
   "id": "9108e3f9-deb4-4c88-8817-e14204b0f31f",
   "metadata": {},
   "source": [
    "## Dans ce notebook, les outils et l'écosystème de la science des données sont résumés.\n",
    "### Objectifs :\n",
    "- Créer un Jupyter Notebook\n",
    "- Insérer des cellules de code et des cellules markdown\n",
    "- Partager votre notebook via GitHub"
   ]
  },
  {
   "cell_type": "markdown",
   "id": "2b183b04-933e-47bd-9ce7-92294f005ae9",
   "metadata": {},
   "source": [
    "## Certains des langages populaires que les scientifiques des données utilisent sont :\n",
    "1. Python\n",
    "3. Spark\n",
    "2. R\n",
    "   "
   ]
  },
  {
   "cell_type": "markdown",
   "id": "8cd09ab1-7663-4bfa-b14b-7de614d06b48",
   "metadata": {},
   "source": [
    "## Certaines des bibliothèques couramment utilisées par les scientifiques des données incluent :\n",
    "1. Plotly\n",
    "2. Numpy\n",
    "3. scikit"
   ]
  },
  {
   "cell_type": "markdown",
   "id": "63b2c019-a67e-40ac-95d5-517f1886878d",
   "metadata": {},
   "source": [
    "| Outils de la science des données |\n",
    "|----------------------------------|\n",
    "| Anaconda Navigator |\n",
    "| Rstudio |\n",
    "| JupiterLab |"
   ]
  },
  {
   "cell_type": "markdown",
   "id": "264e48e0-fb52-4c68-b719-142e80ec06ec",
   "metadata": {},
   "source": [
    "### Voici quelques exemples d'évaluation d'expressions arithmétiques en Python\n"
   ]
  },
  {
   "cell_type": "code",
   "execution_count": 4,
   "id": "d5cbe1d2-bdb8-4214-89e0-18f21588887d",
   "metadata": {},
   "outputs": [
    {
     "data": {
      "text/plain": [
       "17"
      ]
     },
     "execution_count": 4,
     "metadata": {},
     "output_type": "execute_result"
    }
   ],
   "source": [
    "# Ceci est une simple expression arithmétique pour multiplier puis additionner des entiers\n",
    "(3*4)+5"
   ]
  },
  {
   "cell_type": "code",
   "execution_count": 5,
   "id": "b653f444-27ae-4123-950b-32f7b0ccf56d",
   "metadata": {},
   "outputs": [
    {
     "data": {
      "text/plain": [
       "3.3333333333333335"
      ]
     },
     "execution_count": 5,
     "metadata": {},
     "output_type": "execute_result"
    }
   ],
   "source": [
    "# Cela convertira 200 minutes en heures en divisant par 60\n",
    "200/60"
   ]
  },
  {
   "cell_type": "markdown",
   "id": "44d9b6e4-7e8e-4b01-b704-5852ff43fc17",
   "metadata": {},
   "source": [
    "## Auteur \n",
    "SOW Mamadou Aliou"
   ]
  },
  {
   "cell_type": "code",
   "execution_count": null,
   "id": "e9a49473-c33c-4923-9740-13246ca0ad4c",
   "metadata": {},
   "outputs": [],
   "source": []
  }
 ],
 "metadata": {
  "kernelspec": {
   "display_name": "Python 3 (ipykernel)",
   "language": "python",
   "name": "python3"
  },
  "language_info": {
   "codemirror_mode": {
    "name": "ipython",
    "version": 3
   },
   "file_extension": ".py",
   "mimetype": "text/x-python",
   "name": "python",
   "nbconvert_exporter": "python",
   "pygments_lexer": "ipython3",
   "version": "3.12.9"
  }
 },
 "nbformat": 4,
 "nbformat_minor": 5
}
